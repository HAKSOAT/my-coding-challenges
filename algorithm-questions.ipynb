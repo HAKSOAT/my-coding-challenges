{
 "cells": [
  {
   "cell_type": "markdown",
   "metadata": {},
   "source": [
    "### Reverse words in a char sequence"
   ]
  },
  {
   "cell_type": "code",
   "execution_count": 319,
   "metadata": {},
   "outputs": [
    {
     "data": {
      "text/plain": [
       "['I', ' ', 'e', 'v', 'o', 'l', ' ', 's', 'r', 'a', 'C']"
      ]
     },
     "execution_count": 319,
     "metadata": {},
     "output_type": "execute_result"
    }
   ],
   "source": [
    "def rev(s):\n",
    "    b, e = 0, 0\n",
    "    \n",
    "    for i in range(len(s)):\n",
    "        c = s[i]\n",
    "        \n",
    "        if c != \" \" and i+1 != len(s):\n",
    "            e+=1\n",
    "            continue\n",
    "        \n",
    "        if i+1 == len(s):\n",
    "            e += 1\n",
    "\n",
    "        for j in range((e-b)//2):\n",
    "            s[b+j], s[e-1-j]=s[e-1-j], s[b+j]\n",
    "        \n",
    "        e += 1\n",
    "        b = e\n",
    "        i = e\n",
    "    return s\n",
    "rev(list(\"I love Cars\"))"
   ]
  },
  {
   "cell_type": "markdown",
   "metadata": {},
   "source": [
    "##### https://www.hackerrank.com/challenges/array-left-rotation/forum"
   ]
  },
  {
   "cell_type": "code",
   "execution_count": 320,
   "metadata": {},
   "outputs": [
    {
     "data": {
      "text/plain": [
       "[3, 4, 5, 1, 2]"
      ]
     },
     "execution_count": 320,
     "metadata": {},
     "output_type": "execute_result"
    }
   ],
   "source": [
    "def leftRotate(A, d):\n",
    "    \n",
    "    n = len(A)\n",
    "    B = list(range(n))\n",
    "\n",
    "    for i in range(n):\n",
    "        #print((i+n-d)%n)\n",
    "        B[(i+n-d)%n] = A[i]\n",
    "    return B\n",
    "\n",
    "A = [1,2,3,4,5]\n",
    "leftRotate(A, 2)"
   ]
  },
  {
   "cell_type": "code",
   "execution_count": 321,
   "metadata": {},
   "outputs": [
    {
     "name": "stdout",
     "output_type": "stream",
     "text": [
      "1\n",
      "2\n",
      "3\n",
      "4\n",
      "-\n",
      "4\n",
      "3\n",
      "2\n",
      "1\n"
     ]
    }
   ],
   "source": [
    "def reverse_helper(prev, current):\n",
    "    if not current:\n",
    "        return prev\n",
    "    head = reverse_helper(current, current.next)\n",
    "    current.next = prev\n",
    "    return head\n",
    "    \n",
    "def Reverse(head):\n",
    "    print(\"-\")\n",
    "    n = reverse_helper(head, head.next)\n",
    "    head.next = None\n",
    "    return n\n",
    "\n",
    "def printList(h):\n",
    "    if not h:\n",
    "        return\n",
    "    print(h.data)\n",
    "    printList(h.next)\n",
    "    \n",
    "class Node(object):\n",
    "\n",
    "    def __init__(self, data=None, next_node=None):\n",
    "        self.data = data\n",
    "        self.next = next_node\n",
    "h = Node(1, Node(2, Node(3, Node(4))))\n",
    "printList(h)\n",
    "printList(Reverse(h))\n"
   ]
  },
  {
   "cell_type": "code",
   "execution_count": null,
   "metadata": {},
   "outputs": [],
   "source": []
  },
  {
   "cell_type": "code",
   "execution_count": 322,
   "metadata": {},
   "outputs": [],
   "source": [
    "def flatten(array, output=None):\n",
    "    if output is None:\n",
    "        output = []\n",
    "    for i in array:\n",
    "        if isinstance(i, (list)):\n",
    "            flatten(i, output)\n",
    "        else:\n",
    "            output.append(i)\n",
    "    return output"
   ]
  },
  {
   "cell_type": "code",
   "execution_count": 323,
   "metadata": {},
   "outputs": [],
   "source": [
    "r = []\n"
   ]
  },
  {
   "cell_type": "code",
   "execution_count": 324,
   "metadata": {},
   "outputs": [],
   "source": [
    "a = [[1,2,[3]],4,[[[7,[9]]]]]\n",
    "assert flatten(a) == [1, 2, 3, 4, 7, 9]\n",
    "\n",
    "a = []\n",
    "assert flatten(a) == []\n",
    "\n",
    "a = [3]\n",
    "assert flatten(a) == [3]\n",
    "\n",
    "a = [{\"name\": \"mustafa\"}, [2, 3]]\n",
    "assert flatten(a) == [{\"name\": \"mustafa\"}, 2, 3]\n",
    "\n",
    "a = [[[[[[]]]]]]\n",
    "assert flatten(a) == []"
   ]
  },
  {
   "cell_type": "markdown",
   "metadata": {
    "collapsed": true
   },
   "source": [
    "https://www.careercup.com/question?id=5664081785651200\n",
    "\n",
    "Given arrays for N (>= 2) users, each representing the IDs of hotels visited, find the common IDs of the hotels visited amongst the users. \n",
    "\n",
    "Input: \n",
    "\n",
    "* userA = { 2, 3, 1 } \n",
    "* userB = { 2, 5, 3 } \n",
    "* userC = { 7, 3, 1 } \n",
    "\n",
    "Output: \n",
    "{3} \n",
    "\n",
    "Assumptions: \n",
    "Arrays are unsorted. \n",
    "\n",
    "Cases: \n",
    "1. Each array consists of distinct hotel IDs \n",
    "2. Each array may contain duplicate hotel IDs"
   ]
  },
  {
   "cell_type": "markdown",
   "metadata": {},
   "source": [
    "#### Python solution:"
   ]
  },
  {
   "cell_type": "code",
   "execution_count": 325,
   "metadata": {},
   "outputs": [
    {
     "data": {
      "text/plain": [
       "[3]"
      ]
     },
     "execution_count": 325,
     "metadata": {},
     "output_type": "execute_result"
    }
   ],
   "source": [
    "def find_common_user_hotels(user_hotels):\n",
    "    common = user_hotels[0][:]\n",
    "    for i in range(1, len(user_hotels)):\n",
    "        uh = user_hotels[i]\n",
    "        for c in common:\n",
    "            if c not in uh: # lookup - uh can be converted to map for fast searching\n",
    "                common.remove(c)\n",
    "    return common\n",
    "\n",
    "def find_common_user_hotels_2(user_hotels):\n",
    "    common = user_hotels[0][:]\n",
    "    for i in range(1, len(user_hotels)):\n",
    "        uh = dict((j, True) for j in user_hotels[i])\n",
    "        for c in common:\n",
    "            if c not in uh:\n",
    "                common.remove(c)\n",
    "    return common\n",
    "\n",
    "find_common_user_hotels_2([\n",
    "    [2, 3, 1],\n",
    "    [2, 5, 3],\n",
    "    [7, 3, 1]\n",
    "])"
   ]
  },
  {
   "cell_type": "markdown",
   "metadata": {},
   "source": [
    "#### Java solution:\n",
    "\n",
    "```java\n",
    "public static void main(String[] args) {\n",
    "    List<List<Integer>> userHotels = new ArrayList<>();\n",
    "    userHotels.add(new ArrayList<>(Arrays.asList(2, 3, 1)));\n",
    "    userHotels.add(new ArrayList<>(Arrays.asList(2, 5, 3)));\n",
    "    userHotels.add(new ArrayList<>(Arrays.asList(7, 3, 1)));\n",
    "    findCommonUserHotels(userHotels).forEach(System.out::println);\n",
    "}\n",
    "\n",
    "private static List<Integer> findCommonUserHotels(List<List<Integer>> userHotels) {\n",
    "    List<Integer> common = userHotels.get(0);\n",
    "    List<Integer> uh;\n",
    "\n",
    "    for (int i = 1; i < userHotels.size(); i++) {\n",
    "        uh = userHotels.get(i);\n",
    "        for (int j = 0; j < common.size(); j++) {\n",
    "            if (!uh.contains(common.get(j))) {\n",
    "                common.remove(j);\n",
    "                j--;\n",
    "            }\n",
    "        }\n",
    "    }\n",
    "    return common;\n",
    "}\n",
    "private static List<Integer> findCommonUserHotels2(List<List<Integer>> userHotels) {\n",
    "    List<Integer> common = userHotels.get(0);\n",
    "    Set<Integer> uh;\n",
    "\n",
    "    for (int i = 1; i < userHotels.size(); i++) {\n",
    "        uh = new HashSet<>(userHotels.get(i));\n",
    "        for (int j = 0; j < common.size(); j++) {\n",
    "            if (!uh.contains(common.get(j))) {\n",
    "                common.remove(j);\n",
    "                j--;\n",
    "            }\n",
    "        }\n",
    "    }\n",
    "    return common;\n",
    "}\n",
    "```"
   ]
  },
  {
   "cell_type": "markdown",
   "metadata": {},
   "source": [
    "### Search Hotels by keywords\n",
    "\n",
    "https://www.careercup.com/question?id=5689420884738048\n",
    "\n",
    "Problem statement \n",
    "Given a set of hotels and its guests reviews, sort the hotels based on a list of words specified by a user. The criteria to sort the hotels should be how many times the words specified by the user is mentioned in the hotel reviews. \n",
    "\n",
    "Input \n",
    "The first line contains a space-separated set of words which we want to find mentions in the hotel reviews. \n",
    "The second line contains one integer M, which is the number of reviews. \n",
    "This is followed by M+M lines, which alternates an hotel ID and a review belonging to that hotel. \n",
    "\n",
    "Output \n",
    "A list of hotel IDs sorted, in descending order, by how many mentions they have of the words specified in the input. If the count is same, sort according to the hotel IDs in ascending order."
   ]
  },
  {
   "cell_type": "code",
   "execution_count": 326,
   "metadata": {},
   "outputs": [
    {
     "data": {
      "text/plain": [
       "[{'count': 3, 'id': 4},\n",
       " {'count': 2, 'id': 3},\n",
       " {'count': 2, 'id': 5},\n",
       " {'count': 1, 'id': 8}]"
      ]
     },
     "execution_count": 326,
     "metadata": {},
     "output_type": "execute_result"
    }
   ],
   "source": [
    "import operator\n",
    "def search_hotesl(keywords, hotels):\n",
    "    results = []\n",
    "    for h in hotels:\n",
    "        h_words = dict((w, True) for w in h[1].split(\" \"))\n",
    "        count = sum(1 for k in keywords if k in h_words)\n",
    "        if count > 0:\n",
    "            results.append({\n",
    "                \"id\": h[0],\n",
    "                \"count\": count\n",
    "            })\n",
    "    \n",
    "    def compare(a, b):\n",
    "        if a[\"count\"] == b[\"count\"]:\n",
    "            return cmp(b[\"id\"], a[\"id\"])\n",
    "        else:\n",
    "            return cmp(a[\"count\"], b[\"count\"])\n",
    "\n",
    "    return sorted(results, cmp=compare, reverse=True)\n",
    "\n",
    "search_hotesl(keywords=[\"cheap\", \"center\", \"view\"], hotels=[\n",
    "    (7, 'price is too expensive'),\n",
    "    (3, 'cheap in the city center'),\n",
    "    (8, 'cheap but far'),\n",
    "    (4, 'good view in the city center and cheap'),\n",
    "    (5, 'cheap in the heart of the city center'),\n",
    "    (2, 'not expensive in the city')\n",
    "])\n"
   ]
  },
  {
   "cell_type": "markdown",
   "metadata": {},
   "source": [
    "#### Java solution:\n",
    "```java\n",
    "public static void main(String[] args) {\n",
    "    List<List> hotels = new ArrayList<>();\n",
    "\n",
    "    hotels.add(new ArrayList<>(Arrays.asList(7, \"price is too expensive\")));\n",
    "    hotels.add(new ArrayList<>(Arrays.asList(3, \"cheap in the city center\")));\n",
    "    hotels.add(new ArrayList<>(Arrays.asList(8, \"cheap but far\")));\n",
    "    hotels.add(new ArrayList<>(Arrays.asList(4, \"good view in the city center and cheap\")));\n",
    "    hotels.add(new ArrayList<>(Arrays.asList(5, \"cheap in the heart of the city center\")));\n",
    "    hotels.add(new ArrayList<>(Arrays.asList(2, \"not expensive in the city\")));\n",
    "    List<String> keywords = Arrays.asList(\"cheap\", \"center\", \"view\");\n",
    "    searchHotels(hotels, keywords).forEach(System.out::println);\n",
    "}\n",
    "\n",
    "private static List<List> searchHotels(List<List> hotels, List<String> keywords) {\n",
    "    List<List> results = new ArrayList<>();\n",
    "    Integer id, count;\n",
    "    Set<String> hotelKeywords;\n",
    "\n",
    "    for (List hotel : hotels) {\n",
    "        id = (Integer) hotel.get(0);\n",
    "        count = 0;\n",
    "        hotelKeywords = new HashSet<>(Arrays.asList(hotel.get(1).toString().split(\" \")));\n",
    "        for (String keyword : keywords) {\n",
    "            if (hotelKeywords.contains(keyword))\n",
    "                count++;\n",
    "        }\n",
    "\n",
    "        if (count > 0)\n",
    "            results.add(Arrays.asList(id, count));\n",
    "    }\n",
    "\n",
    "    results.sort((o1, o2) -> {\n",
    "        int c = Integer.valueOf((int) o2.get(1)).compareTo((int) o1.get(1));\n",
    "        if (c == 0)\n",
    "            return Integer.valueOf((int) o1.get(0)).compareTo((int) o2.get(0));\n",
    "        else\n",
    "            return c;\n",
    "    });\n",
    "    return results;\n",
    "}\n",
    "\n",
    "```"
   ]
  },
  {
   "cell_type": "markdown",
   "metadata": {},
   "source": [
    "### find max staying guests\n",
    "https://www.careercup.com/question?id=5647860910522368\n",
    "\n",
    "Consider a hotel where the guest is checked in and check out. Find a day when the maximum number of guests stay in a hotel. \n",
    "\n",
    "example: \n",
    "\n",
    "Input : \n",
    "[\n",
    "\n",
    "* . {check-in : 1, check-out 4},\n",
    "* . {check-in : 2, check-out 5}, \n",
    "* . {check-in : 10, check-out 12}, \n",
    "* . {check-in : 5, check-out 9}, \n",
    "* . {check-in : 5, check-out 12} \n",
    "\n",
    "]\n",
    "\n",
    "Output : 5\n",
    "\n"
   ]
  },
  {
   "cell_type": "code",
   "execution_count": 327,
   "metadata": {},
   "outputs": [
    {
     "data": {
      "text/plain": [
       "5"
      ]
     },
     "execution_count": 327,
     "metadata": {},
     "output_type": "execute_result"
    }
   ],
   "source": [
    "def findMaxStayingGuests(stayings):\n",
    "    days = {}\n",
    "    m = None\n",
    "    for s in stayings:\n",
    "        for i in range(s[\"check-in\"], s[\"check-out\"]+1):\n",
    "            days[i] = days.get(i, 0) + 1\n",
    "            if m is None or days[i] > days[m]:\n",
    "                m = i\n",
    "    return m\n",
    "\n",
    "findMaxStayingGuests([\n",
    "    {\"check-in\" : 1, \"check-out\": 4},\n",
    "    {\"check-in\" : 2, \"check-out\": 5}, \n",
    "    {\"check-in\" : 10, \"check-out\": 12}, \n",
    "    {\"check-in\" : 5, \"check-out\": 9}, \n",
    "    {\"check-in\" : 5, \"check-out\": 12}\n",
    "])"
   ]
  },
  {
   "cell_type": "markdown",
   "metadata": {},
   "source": [
    "#### Java solution\n",
    "\n",
    "```java\n",
    "public static void main(String[] args) {\n",
    "    List<List<Integer>> stayings = new ArrayList<>();\n",
    "\n",
    "    stayings.add(new ArrayList<>(Arrays.asList(1, 4)));\n",
    "    stayings.add(new ArrayList<>(Arrays.asList(2, 5)));\n",
    "    stayings.add(new ArrayList<>(Arrays.asList(10, 12)));\n",
    "    stayings.add(new ArrayList<>(Arrays.asList(5, 9)));\n",
    "    stayings.add(new ArrayList<>(Arrays.asList(5, 12)));\n",
    "\n",
    "    System.out.println(findMaxDayOfGuests(stayings));\n",
    "}\n",
    "\n",
    "private static Integer findMaxDayOfGuests(List<List<Integer>> stayings) {\n",
    "    Map<Integer, Integer> days = new HashMap<>();\n",
    "    Integer day = null;\n",
    "    for (List<Integer> staying : stayings) {\n",
    "        for (int i = staying.get(0); i < staying.get(1)+1; i++) {\n",
    "            days.put(i, days.getOrDefault(i, 0) + 1);\n",
    "            if (day == null || days.get(i) > days.get(day))\n",
    "                day = i;\n",
    "        }\n",
    "    }\n",
    "    return day;\n",
    "}\n",
    "```"
   ]
  },
  {
   "cell_type": "markdown",
   "metadata": {},
   "source": [
    "### perfect square number sum\n",
    "\n",
    "https://www.careercup.com/question?id=5739532692488192\n",
    "\n",
    "Given number N, Find the least number of perfect square number sum needed to get N. \n",
    "\n",
    "Example : \n",
    "* n=5 (4+1) i.e. 2 \n",
    "* n=7 (4+1+1+1) i.e. 4 \n",
    "* n=12 (4+4+4) i.e 3 \n",
    "* n=20 (16+4) i.e. 2\n",
    "\n"
   ]
  },
  {
   "cell_type": "code",
   "execution_count": 328,
   "metadata": {},
   "outputs": [
    {
     "name": "stdout",
     "output_type": "stream",
     "text": [
      "[2, 1]\n",
      "[2, 1, 1, 1]\n",
      "[3, 1, 1, 1]\n",
      "[4, 2]\n",
      "[10, 4, 1]\n"
     ]
    }
   ],
   "source": [
    "import math\n",
    "def least_perfect_squares(n):\n",
    "    numbers = []\n",
    "    while n:\n",
    "        i = int(math.sqrt(n))\n",
    "        n = n - (i**2)\n",
    "        numbers.append(i)\n",
    "    return numbers\n",
    "\n",
    "print(least_perfect_squares(5))\n",
    "print(least_perfect_squares(7))\n",
    "print(least_perfect_squares(12))\n",
    "print(least_perfect_squares(20))\n",
    "print(least_perfect_squares(117))"
   ]
  },
  {
   "cell_type": "markdown",
   "metadata": {},
   "source": [
    "### count every word in stream\n",
    "https://www.careercup.com/question?id=5730652642082816\n",
    "\n",
    "Given a stream of characters (e.g. acacabcatghhellomvnsdb) and a list of words (e.g. [\"aca\",\"cat\",\"hello\",\"world\"] ) find and display count of each and every word once the stream ends.(Like : \"aca\" : 2 , \"cat\" : 1 , \"hello\" : 1 , \"world\" : 0 )."
   ]
  },
  {
   "cell_type": "code",
   "execution_count": 329,
   "metadata": {},
   "outputs": [
    {
     "name": "stdout",
     "output_type": "stream",
     "text": [
      "{'world': 0, 'aca': 2, 'hello': 1, 'cat': 1}\n"
     ]
    }
   ],
   "source": [
    "def count_words(words, text):\n",
    "    words = dict((w, 0) for w in words)\n",
    "    for w in words:\n",
    "        p = -1\n",
    "        while True:\n",
    "            p = text.find(w, p+1)\n",
    "            if p != -1:\n",
    "                words[w] += 1;\n",
    "            else:\n",
    "                break\n",
    "    return words\n",
    "\n",
    "\n",
    "def count_words2(words, text):\n",
    "    s = max(len(w) for w in words)\n",
    "    words = dict((w, 0) for w in words)\n",
    "    for i in range(s, len(text)):\n",
    "        for j in range(s, 0, -1):\n",
    "            w = text[i-s:i-j+1]\n",
    "            if w in words:\n",
    "                words[w] += 1\n",
    "    return words\n",
    "\n",
    "print(count_words2([\"aca\",\"cat\",\"hello\",\"world\"], \"acacabcatghhellomvnsdb\"))"
   ]
  },
  {
   "cell_type": "code",
   "execution_count": 330,
   "metadata": {},
   "outputs": [
    {
     "name": "stdout",
     "output_type": "stream",
     "text": [
      "The slowest run took 4.81 times longer than the fastest. This could mean that an intermediate result is being cached.\n",
      "10000 loops, best of 3: 79.5 µs per loop\n"
     ]
    }
   ],
   "source": [
    "%timeit count_words2([\"aca\",\"cat\",\"hello\",\"world\"], \"acacabcatghhellomvnsdbacacabcatghhellomvnsdbacacabcatghhellomvnsdb\")"
   ]
  },
  {
   "cell_type": "code",
   "execution_count": 331,
   "metadata": {},
   "outputs": [
    {
     "name": "stdout",
     "output_type": "stream",
     "text": [
      "100000 loops, best of 3: 7.46 µs per loop\n"
     ]
    }
   ],
   "source": [
    "%timeit count_words([\"aca\",\"cat\",\"hello\",\"world\"], \"acacabcatghhellomvnsdbacacabcatghhellomvnsdbacacabcatghhellomvnsdb\")"
   ]
  },
  {
   "cell_type": "markdown",
   "metadata": {},
   "source": [
    "### is text balanced?\n",
    "https://www.careercup.com/question?id=5701630857052160\n",
    "\n",
    "Write a function to test if the given set of brackets are balanced or not. e.g. \n",
    "\n",
    "`{{}}{)([][]`\n",
    "\n"
   ]
  },
  {
   "cell_type": "code",
   "execution_count": 332,
   "metadata": {},
   "outputs": [
    {
     "name": "stdout",
     "output_type": "stream",
     "text": [
      "True\n",
      "False\n",
      "True\n",
      "True\n",
      "False\n"
     ]
    }
   ],
   "source": [
    "def isBalanced(text):\n",
    "    symbols = {\n",
    "        \"(\": \")\", \n",
    "        \"[\": \"]\", \n",
    "        \"{\": \"}\"}\n",
    "\n",
    "    stack = []\n",
    "    for c in text:\n",
    "        if c in symbols:\n",
    "            stack.append(c)\n",
    "        else:\n",
    "            if len(stack) == 0 or symbols[stack.pop()] != c:\n",
    "                return False\n",
    "    return len(stack) == 0\n",
    "print(isBalanced(\"[]()\"))\n",
    "print(isBalanced(\"]\"))\n",
    "print(isBalanced(\"[{[([])]}]\"))\n",
    "print(isBalanced(\"[]({[]})\"))\n",
    "print(isBalanced(\"[](]\"))"
   ]
  },
  {
   "cell_type": "markdown",
   "metadata": {},
   "source": [
    "### Compressing String\n",
    "\n",
    "https://www.careercup.com/question?id=5654760935915520\n",
    "\n",
    "There's a very simple compression algorithm that takes subsequent characters and just emits how often they were seen. \n",
    "\n",
    "Example: \n",
    "aaabccddd\n",
    "\n",
    "output:\n",
    "a3bc2d3"
   ]
  },
  {
   "cell_type": "code",
   "execution_count": 333,
   "metadata": {},
   "outputs": [
    {
     "name": "stdout",
     "output_type": "stream",
     "text": [
      "a3bc2d3r\n",
      "aaabccdddr\n"
     ]
    }
   ],
   "source": [
    "def compress(t):\n",
    "    s = t[0]\n",
    "    c = 1\n",
    "    i = 1\n",
    "    sb = []\n",
    "    while i < len(t):\n",
    "        if t[i] == s:\n",
    "            c += 1\n",
    "\n",
    "        if t[i] != s:\n",
    "            sb.append(s + str(c) if c > 1 else s)\n",
    "            s = t[i]\n",
    "            c = 1\n",
    "        i+=1\n",
    "        if i == len(t):\n",
    "            sb.append(s + str(c) if c > 1 else s)\n",
    "            \n",
    "    return \"\".join(sb)\n",
    "\n",
    "def decompress(t):\n",
    "    sb = []\n",
    "    s = None\n",
    "    c = 0\n",
    "    j = 0\n",
    "    while j < len(t): \n",
    "        i = t[j]\n",
    "\n",
    "        if s is None: \n",
    "            s = i\n",
    "        elif s!=i or j+1==len(t):\n",
    "            if ord(\"1\") <= ord(i) <= ord(\"9\"):\n",
    "                sb.append(s*int(i))\n",
    "                j+=1\n",
    "            else:\n",
    "                sb.append(s)\n",
    "        \n",
    "            if j < len(t):\n",
    "                s = t[j]\n",
    "        j += 1\n",
    "        if j == len(t):\n",
    "            sb.append(s)\n",
    "        \n",
    "    return \"\".join(sb)\n",
    "            \n",
    "print(compress(\"aaabccdddr\"))\n",
    "print(decompress(\"a3bc2d3r\"))"
   ]
  },
  {
   "cell_type": "markdown",
   "metadata": {},
   "source": [
    "### find square roots in another list\n",
    "https://www.careercup.com/question?id=5203402797613056\n",
    "\n",
    "``` \n",
    "$a = [3, 1, 4, 5, 19, 6];\n",
    "```\n",
    "\n",
    "``` \n",
    "$b = [14, 9, 22, 36, 8, 0, 64, 25];\n",
    "```\n",
    "\n",
    "```\n",
    "# Some elements in the second array are squares. \n",
    "# Print elements that have a square root existing in the first array. \n",
    "# $b[1] = 9, it’s square root is 3 ($a[0]) \n",
    "# $b[3] = 36, it’s square root is 6 ($a[5]) \n",
    "# $b[7] = 25, it’s square root is 5 ($a[3]) \n",
    "```\n",
    "\n",
    "```\n",
    "# Result: \n",
    "# 9 \n",
    "# 36 \n",
    "# 25\n",
    "```"
   ]
  },
  {
   "cell_type": "code",
   "execution_count": 334,
   "metadata": {},
   "outputs": [
    {
     "data": {
      "text/plain": [
       "[9, 25, 36]"
      ]
     },
     "execution_count": 334,
     "metadata": {},
     "output_type": "execute_result"
    }
   ],
   "source": [
    "def find_squares(a, b):\n",
    "    \n",
    "    if len(a) > len(b):\n",
    "        aLonger = True\n",
    "        a = dict((i, True) for i in a)\n",
    "        c = b\n",
    "    else:\n",
    "        aLonger = False\n",
    "        b = dict((i, True) for i in b)\n",
    "        c = a\n",
    "    \n",
    "    result = []\n",
    "    \n",
    "    for i in c:\n",
    "\n",
    "        if aLonger and math.sqrt(i) in a:\n",
    "            result.append(i)\n",
    "        elif not aLonger and i**2 in b:\n",
    "            result.append(i ** 2)\n",
    "    return result\n",
    "\n",
    "find_squares(\n",
    "    [3, 1, 4, 5, 19, 6],\n",
    "    [14, 9, 22, 36, 8, 0, 64, 25]\n",
    ")"
   ]
  },
  {
   "cell_type": "markdown",
   "metadata": {},
   "source": [
    "### multiset intersection\n",
    "https://www.careercup.com/question?id=5158359730749440\n",
    "\n",
    "A multiset or a bag is a collection of elements that can be repeated. Contrast with a set, where elements cannot be repeated. \n",
    "Multisets can be intersected just like sets can be intersected. \n",
    "\n",
    "Input : \n",
    "```\n",
    "A = [0,1,1,2,2,5] \n",
    "B = [0,1,2,2,2,6] \n",
    "```\n",
    "Output : \n",
    "```\n",
    "A ∩ B = C = [0,1,2,2] \n",
    "```\n",
    "\n",
    "Input : \n",
    "```\n",
    "A = [0,1,1] \n",
    "B = [0,1,2,3,4,5,6] \n",
    "```\n",
    "\n",
    "Output \n",
    "```\n",
    "A ∩ B = C = [0,1] \n",
    "```\n",
    "\n",
    "Write a function to find the intersection of two integer arrays in that way ?\n",
    "\n"
   ]
  },
  {
   "cell_type": "code",
   "execution_count": 335,
   "metadata": {},
   "outputs": [
    {
     "name": "stdout",
     "output_type": "stream",
     "text": [
      "[0, 1, 2, 2]\n",
      "[0, 1]\n"
     ]
    }
   ],
   "source": [
    "def multiset_intersect(a, b):\n",
    "    a_d = {}\n",
    "    b_d = {}\n",
    "    for i in a:\n",
    "        a_d[i] = a_d.get(i, 0) + 1\n",
    "    for i in b:\n",
    "        b_d[i] = b_d.get(i, 0) + 1\n",
    "    \n",
    "    result = []\n",
    "    for i in a_d:\n",
    "        if i in b_d:\n",
    "            result.extend([i] * min(b_d[i], a_d[i]))\n",
    "    return result\n",
    "\n",
    "print(multiset_intersect(\n",
    "    [0,1,1,2,2,5],\n",
    "    [0,1,2,2,2,6]\n",
    "))\n",
    "\n",
    "print(multiset_intersect(\n",
    "    [0,1,1],\n",
    "    [0,1,2,3,4,5,6]))"
   ]
  },
  {
   "cell_type": "code",
   "execution_count": 336,
   "metadata": {},
   "outputs": [],
   "source": [
    "a = []"
   ]
  },
  {
   "cell_type": "code",
   "execution_count": 337,
   "metadata": {},
   "outputs": [
    {
     "data": {
      "text/plain": [
       "[2, 2]"
      ]
     },
     "execution_count": 337,
     "metadata": {},
     "output_type": "execute_result"
    }
   ],
   "source": [
    "a.extend([2]*2)\n",
    "a"
   ]
  },
  {
   "cell_type": "markdown",
   "metadata": {},
   "source": [
    "### Smart substring\n",
    "\n",
    "https://www.careercup.com/question?id=5156072660664320\n",
    "    \n",
    "\"Smart substring\" \n",
    "\n",
    "Write a function that takes maximum 30 characters from a string but without cutting the words. \n",
    "\n",
    "Full description:\n",
    "\n",
    "\"Featuring stylish rooms and moorings for recreation boats, Room Mate Aitana is a designer hotel built in 2013 on an island in the IJ River in Amsterdam.\" \n",
    "\n",
    "First 30 characters: \n",
    "\n",
    "\"Featuring stylish rooms and mo\" \n",
    "\n",
    "Smarter approach (max 30 characters, no words are broken): \n",
    "\n",
    "\"Featuring stylish rooms and\"\n",
    "\n"
   ]
  },
  {
   "cell_type": "code",
   "execution_count": 338,
   "metadata": {},
   "outputs": [
    {
     "name": "stdout",
     "output_type": "stream",
     "text": [
      "('Featuring stylish rooms and', 27)\n",
      "('Featuring stylish rooms.', 24)\n"
     ]
    }
   ],
   "source": [
    "def smart_substring(text, count):\n",
    "    sb = text[:count].strip()\n",
    "    delimiters = [\" \", \".\"]\n",
    "    if len(text) > count and text[count] not in delimiters:\n",
    "        for i in range(count - 1, 0, -1):\n",
    "            if text[i] in delimiters:\n",
    "                sb = sb[:i]\n",
    "                break\n",
    "    return sb, len(sb)\n",
    "print(smart_substring(\n",
    "    \"Featuring stylish rooms and moorings for recreation boats, Room Mate Aitana is a designer \", \n",
    "    30))\n",
    "\n",
    "print(smart_substring(\n",
    "    \"Featuring stylish rooms. and moorings for recreation boats, Room Mate Aitana is a designer \", \n",
    "    25))\n"
   ]
  },
  {
   "cell_type": "markdown",
   "metadata": {},
   "source": [
    "### Write a function to cast integer to string\n",
    "\n",
    "https://www.careercup.com/question?id=5670642256969728\n",
    "\n"
   ]
  },
  {
   "cell_type": "code",
   "execution_count": 339,
   "metadata": {},
   "outputs": [
    {
     "name": "stdout",
     "output_type": "stream",
     "text": [
      "0\n",
      "3\n",
      "10\n",
      "14\n",
      "100\n",
      "176\n",
      "-10\n"
     ]
    }
   ],
   "source": [
    "def itos(n):\n",
    "    digits = []\n",
    "    while n >= 10:\n",
    "        digits.append(str(n%10))\n",
    "        n = n // 10\n",
    "    digits.append(str(n))\n",
    "    return \"\".join(digits[::-1])\n",
    "    \n",
    "print(itos(0))\n",
    "print(itos(3))\n",
    "print(itos(10))\n",
    "print(itos(14))\n",
    "print(itos(100))\n",
    "print(itos(176))\n",
    "print(itos(-10))"
   ]
  },
  {
   "cell_type": "markdown",
   "metadata": {},
   "source": [
    "### Character histogram\n",
    "\n",
    "https://www.careercup.com/question?id=4535655694598144\n",
    "\n",
    "You have the file with word at a single line. \n",
    "\n",
    "##### input sample file \n",
    "```\n",
    "abactor \n",
    "abaculus \n",
    "abacus \n",
    "Abadite \n",
    ". \n",
    ". \n",
    "Zyrenian \n",
    "```\n",
    "\n",
    "##### Output \n",
    "\n",
    "```\n",
    "******************************************************************a \n",
    "*************b \n",
    "**********************************c \n",
    "**********************d \n",
    "*******************************************************************************e \n",
    "```\n",
    "##### Character histogram\n",
    "\n",
    "\n",
    "* you have to count the character and create a histogram in alphabetical order. \n",
    "* now you have to produce a histogram with max 80 character in line in reference to max count \n",
    "* now same out based histrogram based on the character count\n",
    "\n"
   ]
  },
  {
   "cell_type": "code",
   "execution_count": 340,
   "metadata": {},
   "outputs": [
    {
     "name": "stdout",
     "output_type": "stream",
     "text": [
      "********************************************************************************a\n",
      "****************************************b\n",
      "************************c\n",
      "****************d\n",
      "********e\n",
      "****************************************k\n",
      "************************r\n"
     ]
    }
   ],
   "source": [
    "def generate_histogram(texts, width):\n",
    "    letters = {}\n",
    "    m = None\n",
    "    for t in texts:\n",
    "        for c in t.lower():\n",
    "            letters[c] = letters.get(c, 0) + 1\n",
    "            if m is None or letters[c] > m:\n",
    "                m = letters[c]\n",
    "    \n",
    "    for i in range(ord(\"a\"), ord(\"z\") + 1):\n",
    "        if chr(i) in letters:\n",
    "            n = int(letters[chr(i)] * width / m)\n",
    "            print(\"*\" * n + chr(i))\n",
    "generate_histogram([\"aaaaaaaaaabbbbbcccdderrrkkkkk\"], 80)"
   ]
  },
  {
   "cell_type": "code",
   "execution_count": null,
   "metadata": {
    "collapsed": true
   },
   "outputs": [],
   "source": []
  }
 ],
 "metadata": {
  "kernelspec": {
   "display_name": "Python 2",
   "language": "python",
   "name": "python2"
  },
  "language_info": {
   "codemirror_mode": {
    "name": "ipython",
    "version": 2
   },
   "file_extension": ".py",
   "mimetype": "text/x-python",
   "name": "python",
   "nbconvert_exporter": "python",
   "pygments_lexer": "ipython2",
   "version": "2.7.10"
  }
 },
 "nbformat": 4,
 "nbformat_minor": 2
}
