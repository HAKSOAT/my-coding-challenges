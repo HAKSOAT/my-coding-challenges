{
 "cells": [
  {
   "cell_type": "code",
   "execution_count": 1,
   "metadata": {
    "collapsed": false
   },
   "outputs": [],
   "source": [
    "def find_nonrepeative(string):\n",
    "    if not string:\n",
    "        return None\n",
    "    for i, char in enumerate(string):\n",
    "        repeated = False\n",
    "        for k, char2 in enumerate(string):\n",
    "            if i != k and char == char2:\n",
    "                repeated = True\n",
    "                break\n",
    "        if not repeated:\n",
    "            return char\n",
    "\n",
    "def find_nonrepeative_python_way(string):\n",
    "    if not string:\n",
    "        return None\n",
    "    for char in string:\n",
    "        if string.count(char) == 1:\n",
    "            return char\n",
    "\n",
    "def find_nonrepeative_hash(string):\n",
    "    if not string:\n",
    "        return None\n",
    "    \n",
    "    counter = [0] * 256  # each letter will be represetned with its ASCII\n",
    "    for char in string:\n",
    "        counter[ord(char)] += 1\n",
    "    for char in string:\n",
    "        if counter[ord(char)] == 1:\n",
    "            return char\n"
   ]
  },
  {
   "cell_type": "code",
   "execution_count": null,
   "metadata": {
    "collapsed": false
   },
   "outputs": [],
   "source": []
  },
  {
   "cell_type": "code",
   "execution_count": null,
   "metadata": {
    "collapsed": false
   },
   "outputs": [],
   "source": [
    "find_nonrepeative_hash(\"sealames\")\n"
   ]
  },
  {
   "cell_type": "code",
   "execution_count": null,
   "metadata": {
    "collapsed": false
   },
   "outputs": [],
   "source": [
    "from nose.tools import assert_equal\n",
    "\n",
    "\n",
    "def testWith(func):\n",
    "    assert_equal(func(\"selam\"), \"s\")\n",
    "    assert_equal(func(\"selasm\"), \"e\")\n",
    "    assert_equal(func(\"aa\"), None)\n",
    "    assert_equal(func(\"aab\"), \"b\")\n",
    "    assert_equal(func(\"b\"), \"b\")\n",
    "    assert_equal(func(\"ackmdbmkca\"), \"d\")\n",
    "    assert_equal(func(\"\"), None)\n",
    "    assert_equal(func(None), None)\n",
    "    assert_equal(func(\"baaaab\"), None)\n",
    "testWith(find_nonrepeative_python_way)\n",
    "testWith(find_nonrepeative)\n"
   ]
  },
  {
   "cell_type": "code",
   "execution_count": 3,
   "metadata": {
    "collapsed": false
   },
   "outputs": [
    {
     "name": "stdout",
     "output_type": "stream",
     "text": [
      "find_nonrepeative_hash 3.78166294098\n",
      "find_nonrepeative_python_way 1.26318311691\n",
      "find_nonrepeative 6.08177089691\n"
     ]
    }
   ],
   "source": [
    "import timeit\n",
    "print \"find_nonrepeative_hash\", timeit.timeit(\n",
    "    \"find_nonrepeative_hash('hakfeackmdbmkcahakf')\",\n",
    "    \"from __main__ import find_nonrepeative_hash\", number=900000)\n",
    "print \"find_nonrepeative_python_way\", timeit.timeit(\n",
    "    \"find_nonrepeative_python_way('hakfeackmdbmkcahakf')\",\n",
    "    \"from __main__ import find_nonrepeative_python_way\", number=900000)\n",
    "print \"find_nonrepeative\", timeit.timeit(\n",
    "    \"find_nonrepeative('hakfeackmdbmkcahakf')\",\n",
    "    \"from __main__ import find_nonrepeative\", number=900000)"
   ]
  },
  {
   "cell_type": "code",
   "execution_count": null,
   "metadata": {
    "collapsed": true
   },
   "outputs": [],
   "source": []
  }
 ],
 "metadata": {
  "kernelspec": {
   "display_name": "Python 2",
   "language": "python",
   "name": "python2"
  },
  "language_info": {
   "codemirror_mode": {
    "name": "ipython",
    "version": 2
   },
   "file_extension": ".py",
   "mimetype": "text/x-python",
   "name": "python",
   "nbconvert_exporter": "python",
   "pygments_lexer": "ipython2",
   "version": "2.7.10"
  }
 },
 "nbformat": 4,
 "nbformat_minor": 0
}
