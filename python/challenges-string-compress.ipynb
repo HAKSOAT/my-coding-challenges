{
 "cells": [
  {
   "cell_type": "code",
   "execution_count": 36,
   "metadata": {
    "collapsed": false
   },
   "outputs": [],
   "source": [
    "def compress_string_contiguous(string):\n",
    "    \"\"\"\n",
    "    assuming any numeric character will not be present in the string.\n",
    "    assuming same characters are contiguous.\n",
    "    \"\"\"\n",
    "    compressed = []\n",
    "    wordLength = len(string)\n",
    "    starts = 0\n",
    "    while starts < wordLength:\n",
    "        c = string[starts]\n",
    "        ends = string.rfind(c, starts+1)\n",
    "        print \"char, starts, ends \", c, starts, ends\n",
    "        length = ends - starts + 1\n",
    "        compressed.append(c + str(length if length > 1 else \"\"))\n",
    "        if length > 1:\n",
    "            starts = ends + 1  # seek to the next char different than c\n",
    "        else:\n",
    "            starts += 1\n",
    "    return \"\".join(compressed)"
   ]
  },
  {
   "cell_type": "code",
   "execution_count": 37,
   "metadata": {
    "collapsed": false
   },
   "outputs": [],
   "source": [
    "def compress_string(string):\n",
    "    if not string:\n",
    "        return string\n",
    "    \n",
    "    compressed = []\n",
    "    def insert(char, length):\n",
    "        if length > 2:\n",
    "            compressed.append(char + str(length))\n",
    "        else:\n",
    "            compressed.append(char * length)\n",
    "    \n",
    "    wordLength = len(string)\n",
    "    previousC = \"\"\n",
    "    length = 1\n",
    "    i = 0\n",
    "    while i < wordLength:\n",
    "        currentC = string[i]\n",
    "        if previousC != currentC:\n",
    "            insert(previousC, length)\n",
    "            previousC = currentC\n",
    "            length = 0\n",
    "            \n",
    "        length += 1\n",
    "        i += 1\n",
    "    insert(previousC, length)\n",
    "    return \"\".join(compressed)"
   ]
  },
  {
   "cell_type": "code",
   "execution_count": 43,
   "metadata": {
    "collapsed": false
   },
   "outputs": [
    {
     "name": "stdout",
     "output_type": "stream",
     "text": [
      "aaBCCEF4KKM6P ta3mmanlaar4 se9k to3\n"
     ]
    }
   ],
   "source": [
    "s = \"aaBCCEFFFFKKMMMMMMP taaammanlaarrrr seeeeeeeeek tooo\"\n",
    "print compress_string(s)"
   ]
  },
  {
   "cell_type": "code",
   "execution_count": 39,
   "metadata": {
    "collapsed": false
   },
   "outputs": [
    {
     "name": "stdout",
     "output_type": "stream",
     "text": [
      "Success: test_compress\n"
     ]
    }
   ],
   "source": [
    "from nose.tools import assert_equal\n",
    "\n",
    "assert_equal(compress_string(None), None)\n",
    "assert_equal(compress_string(''), '')\n",
    "assert_equal(compress_string('AABBCC'), 'AABBCC')\n",
    "\n",
    "# I changed the compressed value from A3B1C2D4 to A3BCCD4,\n",
    "# since it obviously looks better\n",
    "assert_equal(compress_string('AAABCCDDDD'), 'A3BCCD4')\n",
    "print('Success: test_compress')\n"
   ]
  },
  {
   "cell_type": "code",
   "execution_count": null,
   "metadata": {
    "collapsed": true
   },
   "outputs": [],
   "source": []
  }
 ],
 "metadata": {
  "kernelspec": {
   "display_name": "Python 2",
   "language": "python",
   "name": "python2"
  },
  "language_info": {
   "codemirror_mode": {
    "name": "ipython",
    "version": 2
   },
   "file_extension": ".py",
   "mimetype": "text/x-python",
   "name": "python",
   "nbconvert_exporter": "python",
   "pygments_lexer": "ipython2",
   "version": "2.7.10"
  }
 },
 "nbformat": 4,
 "nbformat_minor": 0
}
