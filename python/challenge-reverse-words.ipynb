{
 "cells": [
  {
   "cell_type": "markdown",
   "metadata": {},
   "source": [
    "## Constraints\n",
    "\n",
    "* Can I assume the string is ASCII?\n",
    "    * Yes\n",
    "    * Note: Unicode strings could require special handling depending on your language"
   ]
  },
  {
   "cell_type": "markdown",
   "metadata": {},
   "source": [
    "### Algorithm\n",
    "\n",
    "Since Python strings are immutable, we'll use a list of words instead to exercise in-place string manipulation as you would get with a C string.\n",
    "\n",
    "create a list as a string builder for reversed sentence\n",
    "* split string into words\n",
    "* for each word\n",
    "* *   create a list as a string builder for reversed word\n",
    "* *   for each character in current word:\n",
    "* * *    insert character into the begining of reversed word string\n",
    "* * * inserts reversed word string into the reversed sentence list\n",
    "      \n",
    "#### Complexity:\n",
    "\n",
    "* Time: O(len(string))\n",
    "* Space: O(len(string))"
   ]
  },
  {
   "cell_type": "code",
   "execution_count": 28,
   "metadata": {
    "collapsed": false
   },
   "outputs": [],
   "source": [
    "def reverse_words(string):\n",
    "    if not string:\n",
    "        return string\n",
    "    newString = []\n",
    "    for word in string.split():\n",
    "        newWord = []\n",
    "        for char in word:\n",
    "            newWord.insert(0, char)\n",
    "        newString.insert(0, \"\".join(newWord))\n",
    "    return \" \".join(newString)"
   ]
  },
  {
   "cell_type": "markdown",
   "metadata": {},
   "source": [
    "### Pythonic way\n",
    "\n",
    "You can achive the same goal in a concise way by using python's list modidication methods as follows:"
   ]
  },
  {
   "cell_type": "code",
   "execution_count": 24,
   "metadata": {
    "collapsed": false
   },
   "outputs": [],
   "source": [
    "def reverse_words2(string):\n",
    "    string = list(string)\n",
    "    string.reverse()\n",
    "    return \"\".join(string)\n",
    "\n",
    "def reverse_words3(string):\n",
    "    return string[::-1]\n"
   ]
  },
  {
   "cell_type": "markdown",
   "metadata": {},
   "source": [
    "### Unittests"
   ]
  },
  {
   "cell_type": "code",
   "execution_count": 23,
   "metadata": {
    "collapsed": false
   },
   "outputs": [
    {
     "name": "stdout",
     "output_type": "stream",
     "text": [
      "Success: reverse_words\n",
      "Success: reverse_words\n",
      "Success: reverse_words\n"
     ]
    }
   ],
   "source": [
    "from nose.tools import assert_equal\n",
    "\n",
    "\n",
    "def testWith(func):\n",
    "    assert_equal(reverse_words(\"this is an Example.\"), \".elpmaxE na si siht\")\n",
    "    assert_equal(reverse_words(\"hello friend\"), \"dneirf olleh\")\n",
    "    assert_equal(reverse_words(\"COOL\"), \"LOOC\")\n",
    "    assert_equal(reverse_words(None), None)\n",
    "    print('Success: reverse_words')\n",
    "    \n",
    "testWith(reverse_words)\n",
    "testWith(reverse_words2)\n",
    "testWith(reverse_words3)"
   ]
  },
  {
   "cell_type": "markdown",
   "metadata": {},
   "source": [
    "### Benchmark"
   ]
  },
  {
   "cell_type": "code",
   "execution_count": 27,
   "metadata": {
    "collapsed": false
   },
   "outputs": [
    {
     "name": "stdout",
     "output_type": "stream",
     "text": [
      "reverse_words 0.73145699501\n",
      "reverse_words2 0.122512102127\n",
      "reverse_words3 0.0340781211853\n"
     ]
    }
   ],
   "source": [
    "import timeit\n",
    "print \"reverse_words\", timeit.timeit(\n",
    "    \"reverse_words('this is an Example.')\",\n",
    "    \"from __main__ import reverse_words\", number=99000)\n",
    "print \"reverse_words2\", timeit.timeit(\n",
    "    \"reverse_words2('this is an Example.')\",\n",
    "    \"from __main__ import reverse_words2\", number=99000)\n",
    "print \"reverse_words3\", timeit.timeit(\n",
    "    \"reverse_words3('this is an Example.')\",\n",
    "    \"from __main__ import reverse_words3\", number=99000)"
   ]
  },
  {
   "cell_type": "code",
   "execution_count": 2,
   "metadata": {
    "collapsed": false
   },
   "outputs": [
    {
     "name": "stdout",
     "output_type": "stream",
     "text": [
      "hellasdasd\n"
     ]
    }
   ],
   "source": [
    "print \"hellasdasd\""
   ]
  },
  {
   "cell_type": "code",
   "execution_count": null,
   "metadata": {
    "collapsed": true
   },
   "outputs": [],
   "source": []
  }
 ],
 "metadata": {
  "kernelspec": {
   "display_name": "Python 2",
   "language": "python",
   "name": "python2"
  },
  "language_info": {
   "codemirror_mode": {
    "name": "ipython",
    "version": 2
   },
   "file_extension": ".py",
   "mimetype": "text/x-python",
   "name": "python",
   "nbconvert_exporter": "python",
   "pygments_lexer": "ipython2",
   "version": "2.7.10"
  }
 },
 "nbformat": 4,
 "nbformat_minor": 0
}
