{
 "cells": [
  {
   "cell_type": "code",
   "execution_count": 8,
   "metadata": {
    "collapsed": true
   },
   "outputs": [],
   "source": [
    "def uniqueChars(string):\n",
    "    temp = set()\n",
    "    for i in string:\n",
    "        if i in temp:\n",
    "            return False\n",
    "        temp.add(i)\n",
    "    return True\n",
    "\n",
    "def uniqueChars2(string):\n",
    "    temp = set()\n",
    "    for i in string:\n",
    "        if string.count(i) > 1:\n",
    "            return False\n",
    "    return True\n",
    "\n",
    "def uniqueChars3(string):\n",
    "    return len(set(string)) == len(string)"
   ]
  },
  {
   "cell_type": "code",
   "execution_count": 11,
   "metadata": {
    "collapsed": false
   },
   "outputs": [
    {
     "name": "stdout",
     "output_type": "stream",
     "text": [
      "True\n"
     ]
    }
   ],
   "source": [
    "print(uniqueChars(\"fro\"))"
   ]
  },
  {
   "cell_type": "code",
   "execution_count": 12,
   "metadata": {
    "collapsed": false
   },
   "outputs": [],
   "source": [
    "from nose.tools import assert_equal\n",
    "assert_equal(uniqueChars3(''), True)\n",
    "assert_equal(uniqueChars3('foo'), False)\n",
    "assert_equal(uniqueChars3('bar'), True)"
   ]
  }
 ],
 "metadata": {
  "kernelspec": {
   "display_name": "Python 3",
   "language": "python",
   "name": "python3"
  },
  "language_info": {
   "codemirror_mode": {
    "name": "ipython",
    "version": 3
   },
   "file_extension": ".py",
   "mimetype": "text/x-python",
   "name": "python",
   "nbconvert_exporter": "python",
   "pygments_lexer": "ipython3",
   "version": "3.5.0"
  }
 },
 "nbformat": 4,
 "nbformat_minor": 0
}
