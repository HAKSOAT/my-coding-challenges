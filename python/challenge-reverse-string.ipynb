{
 "cells": [
  {
   "cell_type": "code",
   "execution_count": 2,
   "metadata": {
    "collapsed": false
   },
   "outputs": [],
   "source": [
    "def list_of_chars(chars):\n",
    "    if not chars:\n",
    "        return chars\n",
    "    length = len(chars)\n",
    "    for i in range(length/2):\n",
    "        chars[i], chars[length - (i+1)] = chars[length - (i+1)], chars[i]\n",
    "    return chars\n",
    "\n",
    "def list_of_chars1(chars):\n",
    "    if not chars:\n",
    "        return chars\n",
    "    chars = list(chars)\n",
    "    return [chars[i] for i in range(len(chars)-1, -1, -1)]\n",
    "\n",
    "def list_of_chars4(list_chars):\n",
    "    if not list_chars:\n",
    "        return list_chars\n",
    "    rchars = []\n",
    "    i = len(list_chars) - 1\n",
    "    while i > -1:\n",
    "        rchars.append(list_chars[i])\n",
    "        i -= 1\n",
    "    return rchars\n",
    "\n",
    "def list_of_chars2(chars):\n",
    "    return chars[::-1]\n",
    "\n",
    "def list_of_chars3(chars):\n",
    "    if not chars:\n",
    "        return chars\n",
    "    return list(reversed(chars))\n"
   ]
  },
  {
   "cell_type": "code",
   "execution_count": 3,
   "metadata": {
    "collapsed": false
   },
   "outputs": [
    {
     "name": "stdout",
     "output_type": "stream",
     "text": [
      "['m', 'a', 't', ' ', 'm', 'i', 'd', ' ', 'e', 'l', 'y', 'o', 's']\n"
     ]
    }
   ],
   "source": [
    "a = list(\"soyle dim tam\")\n",
    "print str(list_of_chars(a))"
   ]
  },
  {
   "cell_type": "code",
   "execution_count": 95,
   "metadata": {
    "collapsed": false
   },
   "outputs": [
    {
     "name": "stdout",
     "output_type": "stream",
     "text": [
      "Success: test_reverse\n"
     ]
    }
   ],
   "source": [
    "from nose.tools import assert_equal\n",
    "\n",
    "assert_equal(list_of_chars(None), None)\n",
    "assert_equal(list_of_chars(['']), [''])\n",
    "assert_equal(list_of_chars(\n",
    "    ['f', 'o', 'o', ' ', 'b', 'a', 'r']),\n",
    "    ['r', 'a', 'b', ' ', 'o', 'o', 'f'])\n",
    "print('Success: test_reverse')\n"
   ]
  },
  {
   "cell_type": "code",
   "execution_count": 7,
   "metadata": {
    "collapsed": true
   },
   "outputs": [],
   "source": [
    "a = \"ferferf\""
   ]
  },
  {
   "cell_type": "code",
   "execution_count": 8,
   "metadata": {
    "collapsed": false
   },
   "outputs": [
    {
     "name": "stdout",
     "output_type": "stream",
     "text": [
      "ferferf\n"
     ]
    }
   ],
   "source": [
    "print a"
   ]
  },
  {
   "cell_type": "code",
   "execution_count": null,
   "metadata": {
    "collapsed": true
   },
   "outputs": [],
   "source": []
  }
 ],
 "metadata": {
  "kernelspec": {
   "display_name": "Python 2",
   "language": "python",
   "name": "python2"
  },
  "language_info": {
   "codemirror_mode": {
    "name": "ipython",
    "version": 2
   },
   "file_extension": ".py",
   "mimetype": "text/x-python",
   "name": "python",
   "nbconvert_exporter": "python",
   "pygments_lexer": "ipython2",
   "version": "2.7.10"
  }
 },
 "nbformat": 4,
 "nbformat_minor": 0
}
