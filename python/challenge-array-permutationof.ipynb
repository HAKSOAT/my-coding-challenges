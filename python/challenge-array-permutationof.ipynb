{
 "cells": [
  {
   "cell_type": "code",
   "execution_count": 8,
   "metadata": {
    "collapsed": true
   },
   "outputs": [],
   "source": [
    "def permutationOf(string1, string2):\n",
    "    return set(string1) == set(string2)\n",
    "\n",
    "def permutationOf2(string1, string2):\n",
    "    if len(string1) != len(string2):\n",
    "        return False\n",
    "    for i in string1:\n",
    "        if i not in string2:\n",
    "            return False\n",
    "    return True"
   ]
  },
  {
   "cell_type": "code",
   "execution_count": 12,
   "metadata": {
    "collapsed": false
   },
   "outputs": [],
   "source": [
    "from nose.tools import assert_equal\n",
    "\n",
    "assert_equal(permutationOf('', 'foo'), False)\n",
    "assert_equal(permutationOf('Nib', 'bin'), False)\n",
    "assert_equal(permutationOf('act', 'cat'), True)\n",
    "assert_equal(permutationOf('a ct', 'ca t'), True)\n"
   ]
  },
  {
   "cell_type": "code",
   "execution_count": null,
   "metadata": {
    "collapsed": true
   },
   "outputs": [],
   "source": []
  }
 ],
 "metadata": {
  "kernelspec": {
   "display_name": "Python 2",
   "language": "python",
   "name": "python2"
  },
  "language_info": {
   "codemirror_mode": {
    "name": "ipython",
    "version": 2
   },
   "file_extension": ".py",
   "mimetype": "text/x-python",
   "name": "python",
   "nbconvert_exporter": "python",
   "pygments_lexer": "ipython2",
   "version": "2.7.10"
  }
 },
 "nbformat": 4,
 "nbformat_minor": 0
}
