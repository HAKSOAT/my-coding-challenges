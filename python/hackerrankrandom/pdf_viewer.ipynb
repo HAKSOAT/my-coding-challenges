{
 "cells": [
  {
   "cell_type": "markdown",
   "metadata": {},
   "source": [
    "## Designer PDF Viewer\n",
    "https://www.hackerrank.com/challenges/designer-pdf-viewer\n",
    "\n",
    "### input\n",
    "The first line contains 26 space-separated integers describing the respective heights of each consecutive lowercase English letters.\n",
    "\n",
    "The second line contains a single word, consisting of lowercase English alphabetic letters.\n",
    "\n",
    "#### Sample Input\n",
    "```\n",
    "1 3 1 3 1 4 1 3 2 5 5 5 5 5 5 5 5 5 5 5 5 5 5 5 5 5\n",
    "abc\n",
    "```"
   ]
  },
  {
   "cell_type": "code",
   "execution_count": 5,
   "metadata": {
    "collapsed": false
   },
   "outputs": [
    {
     "name": "stdout",
     "output_type": "stream",
     "text": [
      "1 3 1 3 1 4 1 3 2 5 5 5 5 5 5 5 5 5 5 5 5 5 5 5 5 5\n",
      "abc\n",
      "9\n"
     ]
    }
   ],
   "source": [
    "h = [int(i) for i in input().strip().split(\" \")]\n",
    "word = input().strip()\n",
    "\n",
    "h = dict(zip([chr(i+97) for i in range(26)], h))\n",
    "\n",
    "maxH = None\n",
    "for i in word:\n",
    "    if maxH == None or h[i] > maxH:\n",
    "        maxH = h[i]\n",
    "\n",
    "print(maxH * len(word))"
   ]
  },
  {
   "cell_type": "code",
   "execution_count": null,
   "metadata": {
    "collapsed": true
   },
   "outputs": [],
   "source": []
  }
 ],
 "metadata": {
  "kernelspec": {
   "display_name": "Python 3",
   "language": "python",
   "name": "python3"
  },
  "language_info": {
   "codemirror_mode": {
    "name": "ipython",
    "version": 3
   },
   "file_extension": ".py",
   "mimetype": "text/x-python",
   "name": "python",
   "nbconvert_exporter": "python",
   "pygments_lexer": "ipython3",
   "version": "3.5.0"
  }
 },
 "nbformat": 4,
 "nbformat_minor": 1
}
