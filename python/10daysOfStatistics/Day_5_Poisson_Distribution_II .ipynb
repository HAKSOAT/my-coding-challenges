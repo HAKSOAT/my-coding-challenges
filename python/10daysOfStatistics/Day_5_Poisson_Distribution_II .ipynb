{
 "cells": [
  {
   "cell_type": "markdown",
   "metadata": {},
   "source": [
    "## Day 5: Poisson Distribution II \n",
    "https://www.hackerrank.com/challenges/s10-poisson-distribution-2\n",
    "\n",
    "### Objective \n",
    "In this challenge, we go further with Poisson distributions. We recommend reviewing the previous challenge's Tutorial before attempting this problem.\n",
    "\n",
    "### Task \n",
    "The manager of a industrial plant is planning to buy a machine of either type  or type . For each day’s operation:\n",
    "\n",
    "- The number of repairs, , that machine  needs is a Poisson random variable with mean . The daily cost of operating  is .\n",
    "- The number of repairs, , that machine  needs is a Poisson random variable with mean . The daily cost of operating  is .\n",
    "Assume that the repairs take a negligible amount of time and the machines are maintained nightly to ensure that they operate like new at the start of each day. Find and print the expected daily cost for each machine.\n",
    "\n",
    "### Input Format\n",
    "\n",
    "A single line comprised of  space-separated values denoting the respective means for  and :\n",
    "\n",
    "```\n",
    "0.88 1.55\n",
    "```\n",
    "If you do not wish to read this information from stdin, you can hard-code it into your program.\n",
    "\n",
    "### Output Format\n",
    "\n",
    "There are two lines of output. Your answers must be rounded to a scale of  decimal places (i.e.,  format):\n",
    "\n",
    "On the first line, print the expected daily cost of machine .\n",
    "On the second line, print the expected daily cost of machine .\n"
   ]
  },
  {
   "cell_type": "code",
   "execution_count": 13,
   "metadata": {
    "collapsed": false
   },
   "outputs": [
    {
     "name": "stdout",
     "output_type": "stream",
     "text": [
      "0.88 1.55\n",
      "226.176\n",
      "286.1\n"
     ]
    }
   ],
   "source": [
    "a_m, b_m = [float(i) for i in input().split(\" \")]\n",
    "\n",
    "print(round(160 + 40 * (a_m + a_m ** 2), 3))\n",
    "print(round(128 + 40 * (b_m + b_m ** 2), 3))"
   ]
  },
  {
   "cell_type": "code",
   "execution_count": null,
   "metadata": {
    "collapsed": true
   },
   "outputs": [],
   "source": []
  }
 ],
 "metadata": {
  "kernelspec": {
   "display_name": "Python 3",
   "language": "python",
   "name": "python3"
  },
  "language_info": {
   "codemirror_mode": {
    "name": "ipython",
    "version": 3
   },
   "file_extension": ".py",
   "mimetype": "text/x-python",
   "name": "python",
   "nbconvert_exporter": "python",
   "pygments_lexer": "ipython3",
   "version": "3.5.0"
  }
 },
 "nbformat": 4,
 "nbformat_minor": 1
}
