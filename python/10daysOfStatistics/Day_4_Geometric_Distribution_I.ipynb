{
 "cells": [
  {
   "cell_type": "markdown",
   "metadata": {},
   "source": [
    "## Day 4: Geometric Distribution I\n",
    "#### Objective \n",
    "In this challenge, we learn about geometric distributions. Check out the Tutorial tab for learning materials!\n",
    "\n",
    "#### Task \n",
    "The probability that a machine produces a defective product is . What is the probability that the  defect is found during the  inspection?\n",
    "\n",
    "#### Input Format\n",
    "The first line contains the respective space-separated numerator and denominator for the probability of a defect, and the second line contains the inspection we want the probability of being the first defect for:\n",
    "```\n",
    "1 3\n",
    "5\n",
    "```\n",
    "If you do not wish to read this information from stdin, you can hard-code it into your program.\n",
    "\n",
    "####  Output Format\n",
    "\n",
    "Print a single line denoting the answer, rounded to a scale of  decimal places (i.e.,  format).\n",
    "\n"
   ]
  },
  {
   "cell_type": "code",
   "execution_count": 1,
   "metadata": {
    "collapsed": true
   },
   "outputs": [],
   "source": [
    "def neg_bernoulli(n, p):\n",
    "    return p * (1-p)**(n-1)"
   ]
  },
  {
   "cell_type": "code",
   "execution_count": 12,
   "metadata": {
    "collapsed": false
   },
   "outputs": [],
   "source": [
    "defective_prob = 1 / 3.0\n",
    "inspection = 5"
   ]
  },
  {
   "cell_type": "code",
   "execution_count": 14,
   "metadata": {
    "collapsed": false
   },
   "outputs": [
    {
     "data": {
      "text/plain": [
       "0.066"
      ]
     },
     "execution_count": 14,
     "metadata": {},
     "output_type": "execute_result"
    }
   ],
   "source": [
    "round(neg_bernoulli(inspection, defective_prob), 3)"
   ]
  }
 ],
 "metadata": {
  "kernelspec": {
   "display_name": "Python 3",
   "language": "python",
   "name": "python3"
  },
  "language_info": {
   "codemirror_mode": {
    "name": "ipython",
    "version": 3
   },
   "file_extension": ".py",
   "mimetype": "text/x-python",
   "name": "python",
   "nbconvert_exporter": "python",
   "pygments_lexer": "ipython3",
   "version": "3.5.0"
  }
 },
 "nbformat": 4,
 "nbformat_minor": 1
}
