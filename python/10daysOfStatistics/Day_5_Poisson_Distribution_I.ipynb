{
 "cells": [
  {
   "cell_type": "markdown",
   "metadata": {},
   "source": [
    "## Day 5: Poisson Distribution I \n",
    "https://www.hackerrank.com/challenges/s10-poisson-distribution-1\n",
    "\n",
    "#### Objective \n",
    "In this challenge, we learn about Poisson distributions. Check out the Tutorial tab for learning materials!\n",
    "\n",
    "#### Task \n",
    "A random variable, , follows Poisson distribution with mean of . Find the probability with which the random variable  is equal to .\n",
    "\n",
    "#### Input Format\n",
    "The first line contains 's mean. The second line contains the value we want the probability for:\n",
    "\n",
    "```\n",
    "2.5\n",
    "5\n",
    "```\n",
    "If you do not wish to read this information from stdin, you can hard-code it into your program.\n",
    "\n",
    "#### Output Format\n",
    "Print a single line denoting the answer, rounded to a scale of  decimal places (i.e.,  format).\n",
    "\n"
   ]
  },
  {
   "cell_type": "code",
   "execution_count": 19,
   "metadata": {
    "collapsed": false
   },
   "outputs": [],
   "source": [
    "import math\n",
    "from matplotlib import pylab as plt\n",
    "%matplotlib inline\n"
   ]
  },
  {
   "cell_type": "code",
   "execution_count": 20,
   "metadata": {
    "collapsed": true
   },
   "outputs": [],
   "source": [
    "def posion_dist(m, k):\n",
    "    return (m**k * math.e**(-m)) / math.factorial(k)"
   ]
  },
  {
   "cell_type": "markdown",
   "metadata": {},
   "source": [
    "### Example\n",
    "Acme Realty company sells an average of 2 homes per day. \n",
    "\n",
    "What is the probability that exactly 3  homes will be sold tomorrow? "
   ]
  },
  {
   "cell_type": "code",
   "execution_count": 34,
   "metadata": {
    "collapsed": false
   },
   "outputs": [
    {
     "data": {
      "text/plain": [
       "0.1804470443154836"
      ]
     },
     "execution_count": 34,
     "metadata": {},
     "output_type": "execute_result"
    }
   ],
   "source": [
    "posion_dist(2, 3)"
   ]
  },
  {
   "cell_type": "code",
   "execution_count": 30,
   "metadata": {
    "collapsed": false
   },
   "outputs": [
    {
     "data": {
      "text/plain": [
       "[<matplotlib.lines.Line2D at 0x10a4db358>]"
      ]
     },
     "execution_count": 30,
     "metadata": {},
     "output_type": "execute_result"
    },
    {
     "data": {
      "image/png": "[encoded data removed]",
      "text/plain": [
       "<matplotlib.figure.Figure at 0x10a426c88>"
      ]
     },
     "metadata": {},
     "output_type": "display_data"
    }
   ],
   "source": [
    "N = range(1, 20)\n",
    "M = 7\n",
    "plt.plot(N, [posion_dist(M, i) for i in N])"
   ]
  }
 ],
 "metadata": {
  "kernelspec": {
   "display_name": "Python 3",
   "language": "python",
   "name": "python3"
  },
  "language_info": {
   "codemirror_mode": {
    "name": "ipython",
    "version": 3
   },
   "file_extension": ".py",
   "mimetype": "text/x-python",
   "name": "python",
   "nbconvert_exporter": "python",
   "pygments_lexer": "ipython3",
   "version": "3.5.0"
  }
 },
 "nbformat": 4,
 "nbformat_minor": 1
}
