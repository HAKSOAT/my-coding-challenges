{
 "cells": [
  {
   "cell_type": "markdown",
   "metadata": {},
   "source": [
    "## Day 5: Normal Distribution II\n",
    "https://www.hackerrank.com/challenges/s10-normal-distribution-2\n",
    "\n",
    "####  Objective \n",
    "In this challenge, we go further with normal distributions. We recommend reviewing the previous challenge's Tutorial before attempting this problem.\n",
    "\n",
    "#### Task \n",
    "The final grades for a Physics exam taken by a large group of students have a mean of **m=70** and a standard deviation of **stdv = 10**. If we can approximate the distribution of these grades by a normal distribution, what percentage of the students:\n",
    "\n",
    "- Scored higher than 80 (i.e., have a > 80)?\n",
    "- Passed the test (i.e., have a >= 60)?\n",
    "- Failed the test (i.e., have a < 60)?\n",
    "\n",
    "Find and print the answer to each question on a new line, rounded to a scale of  decimal places.\n",
    "\n"
   ]
  },
  {
   "cell_type": "code",
   "execution_count": 1,
   "metadata": {
    "collapsed": true
   },
   "outputs": [],
   "source": [
    "import math"
   ]
  },
  {
   "cell_type": "code",
   "execution_count": 2,
   "metadata": {
    "collapsed": true
   },
   "outputs": [],
   "source": [
    "def cumulative(x, m, stdv):\n",
    "    return 0.5 * (1 + math.erf((x-m)/ (stdv * math.sqrt(2)) ))"
   ]
  },
  {
   "cell_type": "code",
   "execution_count": 3,
   "metadata": {
    "collapsed": true
   },
   "outputs": [],
   "source": [
    "mean = 70\n",
    "stdv = 10"
   ]
  },
  {
   "cell_type": "code",
   "execution_count": 4,
   "metadata": {
    "collapsed": false
   },
   "outputs": [],
   "source": [
    "# gt80 = cumulative(100, mean, stdv) - cumulative(80, mean, stdv)\n",
    "# gte60 = cumulative(100, mean, stdv) - cumulative(60, mean, stdv)\n",
    "# lt60 = cumulative(60, mean, stdv)\n",
    "gt80 = 1 - cumulative(80, mean, stdv)\n",
    "gte60 = 1 - cumulative(60, mean, stdv)\n",
    "lt60 = cumulative(60, mean, stdv)"
   ]
  },
  {
   "cell_type": "code",
   "execution_count": 5,
   "metadata": {
    "collapsed": false
   },
   "outputs": [
    {
     "name": "stdout",
     "output_type": "stream",
     "text": [
      "0.1587\n",
      "0.8413\n",
      "0.1587\n"
     ]
    }
   ],
   "source": [
    "print(round(gt80, 4))\n",
    "print(round(gte60, 4))\n",
    "print(round(lt60, 4))"
   ]
  },
  {
   "cell_type": "code",
   "execution_count": null,
   "metadata": {
    "collapsed": true
   },
   "outputs": [],
   "source": []
  }
 ],
 "metadata": {
  "kernelspec": {
   "display_name": "Python 3",
   "language": "python",
   "name": "python3"
  },
  "language_info": {
   "codemirror_mode": {
    "name": "ipython",
    "version": 3
   },
   "file_extension": ".py",
   "mimetype": "text/x-python",
   "name": "python",
   "nbconvert_exporter": "python",
   "pygments_lexer": "ipython3",
   "version": "3.5.0"
  }
 },
 "nbformat": 4,
 "nbformat_minor": 1
}
