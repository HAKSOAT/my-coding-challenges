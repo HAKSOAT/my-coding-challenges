{
 "cells": [
  {
   "cell_type": "markdown",
   "metadata": {},
   "source": [
    "## Day 7: Pearson Correlation Coefficient I\n",
    "\n",
    "https://www.hackerrank.com/challenges/s10-pearson-correlation-coefficient\n",
    "\n",
    "#### Objective \n",
    "In this challenge, we practice calculating the Pearson correlation coefficient. Check out the Tutorial tab for learning materials!\n",
    "\n",
    "#### Task\n",
    "Given two -element data sets, X and Y, calculate the value of the Pearson correlation coefficient.\n",
    "The first line contains an integer, n , denoting the size of data sets X and Y. \n",
    "\n",
    "- The second line contains n space-separated real numbers (scaled to at most one decimal place), defining data set X. \n",
    "- The third line contains n space-separated real numbers (scaled to at most one decimal place), defining data set Y.\n",
    "\n",
    "#### Output Format\n",
    "Print the value of the Pearson correlation coefficient, rounded to a scale of  decimal places.\n",
    "\n",
    "#### Sample Input\n",
    "```\n",
    "10\n",
    "10 9.8 8 7.8 7.7 7 6 5 4 2 \n",
    "200 44 32 24 22 17 15 12 8 4\n",
    "```\n",
    "#### Sample Output\n",
    "```\n",
    "0.612\n",
    "```\n"
   ]
  },
  {
   "cell_type": "code",
   "execution_count": 44,
   "metadata": {
    "collapsed": true
   },
   "outputs": [],
   "source": [
    "import math\n",
    "\n",
    "def input_floats():\n",
    "    return [float(i) for i in input().split(\" \")]\n",
    "\n",
    "def variance(x, m):\n",
    "    return sum((i - m) ** 2 for i in x) / len(x)\n",
    "\n",
    "def covariance(x, y, xm, ym):\n",
    "    return sum((i - xm) * (j - ym) for i, j in zip(x, y)) / len(x)"
   ]
  },
  {
   "cell_type": "code",
   "execution_count": 45,
   "metadata": {
    "collapsed": false
   },
   "outputs": [],
   "source": [
    "#x = input_floats()\n",
    "# y = input_floats()\n",
    "x = [10, 9.8, 8, 7.8, 7.7, 7, 6, 5, 4, 2] \n",
    "y = [200, 44, 32, 24, 22, 17, 15, 12, 8, 4]\n",
    "N = len(x)\n",
    "\n",
    "x_mean = sum(x) / N\n",
    "y_mean = sum(y)/ N\n",
    "\n",
    "x_var = variance(x, x_mean)\n",
    "y_var = variance(y, y_mean)\n",
    "\n",
    "covxy = covariance(x, y, x_mean, y_mean)\n",
    "\n",
    "pearson = covxy / (math.sqrt(x_var) * math.sqrt(y_var))"
   ]
  },
  {
   "cell_type": "code",
   "execution_count": 46,
   "metadata": {
    "collapsed": false
   },
   "outputs": [
    {
     "data": {
      "text/plain": [
       "(6.730000000000001, 5.724100000000002, 2.392509143138225)"
      ]
     },
     "execution_count": 46,
     "metadata": {},
     "output_type": "execute_result"
    }
   ],
   "source": [
    "x_mean, x_var, math.sqrt(x_var)"
   ]
  },
  {
   "cell_type": "code",
   "execution_count": 47,
   "metadata": {
    "collapsed": false
   },
   "outputs": [
    {
     "data": {
      "text/plain": [
       "(37.8, 3046.959999999999, 55.199275357562435)"
      ]
     },
     "execution_count": 47,
     "metadata": {},
     "output_type": "execute_result"
    }
   ],
   "source": [
    "y_mean, y_var, math.sqrt(y_var)"
   ]
  },
  {
   "cell_type": "code",
   "execution_count": 49,
   "metadata": {
    "collapsed": false
   },
   "outputs": [
    {
     "data": {
      "text/plain": [
       "80.886"
      ]
     },
     "execution_count": 49,
     "metadata": {},
     "output_type": "execute_result"
    }
   ],
   "source": [
    "covxy"
   ]
  },
  {
   "cell_type": "code",
   "execution_count": 48,
   "metadata": {
    "collapsed": false
   },
   "outputs": [
    {
     "data": {
      "text/plain": [
       "0.6124721937208478"
      ]
     },
     "execution_count": 48,
     "metadata": {},
     "output_type": "execute_result"
    }
   ],
   "source": [
    "pearson"
   ]
  }
 ],
 "metadata": {
  "kernelspec": {
   "display_name": "Python 3",
   "language": "python",
   "name": "python3"
  },
  "language_info": {
   "codemirror_mode": {
    "name": "ipython",
    "version": 3
   },
   "file_extension": ".py",
   "mimetype": "text/x-python",
   "name": "python",
   "nbconvert_exporter": "python",
   "pygments_lexer": "ipython3",
   "version": "3.5.0"
  }
 },
 "nbformat": 4,
 "nbformat_minor": 1
}
