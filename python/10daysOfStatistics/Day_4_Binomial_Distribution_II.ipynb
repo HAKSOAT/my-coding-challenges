{
 "cells": [
  {
   "cell_type": "markdown",
   "metadata": {},
   "source": [
    "## Day 4: Binomial Distribution II\n",
    "https://www.hackerrank.com/challenges/s10-binomial-distribution-2\n",
    "#### Objective \n",
    "In this challenge, we go further with binomial distributions. We recommend reviewing the previous challenge's Tutorial before attempting this problem.\n",
    "\n",
    "#### Task \n",
    "A manufacturer of metal pistons finds that, on average,  of the pistons they manufacture are rejected because they are incorrectly sized. What is the probability that a batch of  pistons will contain:\n",
    "\n",
    "No more than  rejects?\n",
    "At least  rejects?\n",
    "\n",
    "#### Input Format\n",
    "A single line containing the following values (denoting the respective percentage of defective pistons and the size of the current batch of pistons):\n",
    "\n",
    "12 10\n",
    "If you do not wish to read this information from stdin, you can hard-code it into your program.\n",
    "\n",
    "#### Output Format\n",
    "Print the answer to each question on its own line:\n",
    "\n",
    "The first line should contain the probability that a batch of  pistons will contain no more than  rejects.\n",
    "The second line should contain the probability that a batch of  pistons will contain at least  rejects.\n",
    "Round both of your answers to a scale of  decimal places (i.e.,  format).\n",
    "\n"
   ]
  },
  {
   "cell_type": "code",
   "execution_count": 7,
   "metadata": {
    "collapsed": true
   },
   "outputs": [],
   "source": [
    "import math"
   ]
  },
  {
   "cell_type": "code",
   "execution_count": 12,
   "metadata": {
    "collapsed": false
   },
   "outputs": [
    {
     "data": {
      "text/plain": [
       "(0.12, 10.0)"
      ]
     },
     "execution_count": 12,
     "metadata": {},
     "output_type": "execute_result"
    }
   ],
   "source": [
    "def input():\n",
    "    return \"12 10\"\n",
    "\n",
    "inputs = [float(i) for i in input().strip().split(\" \")]\n",
    "rejects_prob = inputs[0] / 100\n",
    "trial = inputs[1]\n",
    "rejects, trial"
   ]
  },
  {
   "cell_type": "code",
   "execution_count": 13,
   "metadata": {
    "collapsed": true
   },
   "outputs": [],
   "source": [
    "def binomial_dist(x, n, p):\n",
    "    q = 1.0 - p\n",
    "    bernoulli = p**x * q ** (n-x)\n",
    "    combination = math.factorial(n) / (math.factorial(x) * math.factorial(n-x))\n",
    "    return combination * bernoulli"
   ]
  },
  {
   "cell_type": "code",
   "execution_count": 18,
   "metadata": {
    "collapsed": false
   },
   "outputs": [],
   "source": [
    "at_least_2 = sum(binomial_dist(i, trial, rejects_prob) for i in range(2, 11))"
   ]
  },
  {
   "cell_type": "code",
   "execution_count": 21,
   "metadata": {
    "collapsed": false
   },
   "outputs": [],
   "source": [
    "at_most_2 = sum(binomial_dist(i, trial, rejects_prob) for i in range(1, 3))"
   ]
  },
  {
   "cell_type": "code",
   "execution_count": 22,
   "metadata": {
    "collapsed": false
   },
   "outputs": [
    {
     "data": {
      "text/plain": [
       "(0.3417249657959586, 0.6128172302686224)"
      ]
     },
     "execution_count": 22,
     "metadata": {},
     "output_type": "execute_result"
    }
   ],
   "source": [
    "at_least_2, at_most_2"
   ]
  }
 ],
 "metadata": {
  "kernelspec": {
   "display_name": "Python 3",
   "language": "python",
   "name": "python3"
  },
  "language_info": {
   "codemirror_mode": {
    "name": "ipython",
    "version": 3
   },
   "file_extension": ".py",
   "mimetype": "text/x-python",
   "name": "python",
   "nbconvert_exporter": "python",
   "pygments_lexer": "ipython3",
   "version": "3.5.0"
  }
 },
 "nbformat": 4,
 "nbformat_minor": 1
}
