{
 "cells": [
  {
   "cell_type": "markdown",
   "metadata": {},
   "source": [
    "## Day 5: Normal Distribution I"
   ]
  },
  {
   "cell_type": "markdown",
   "metadata": {},
   "source": [
    "https://www.hackerrank.com/challenges/s10-normal-distribution-1\n",
    "\n",
    "#### Objective \n",
    "In this challenge, we learn about normal distributions. Check out the Tutorial tab for learning materials!\n",
    "\n",
    "#### Task \n",
    "In a certain plant, the time taken to assemble a car is a random variable, **X**, having a normal distribution with a mean of **20** hours and a standard deviation of **2** hours. What is the probability that a car can be assembled at this plant in:\n",
    "\n",
    "##### Question 1:\n",
    "Less than 19.5  hours?\n",
    "\n",
    "#### Question 2:\n",
    "Between  20 and 22 hours?\n",
    "\n",
    "#### Input Format\n",
    "There are  lines of input (shown below):\n",
    "```\n",
    "20 2\n",
    "19.5\n",
    "20 22\n",
    "```\n",
    "The first line contains 2 space-separated values denoting the respective mean and standard deviation for X. The second line contains the number associated with question 1. The third line contains 2 space-separated values describing the respective lower and upper range boundaries for question 2.\n",
    "\n",
    "If you do not wish to read this information from stdin, you can hard-code it into your program.\n",
    "\n",
    "\n"
   ]
  },
  {
   "cell_type": "code",
   "execution_count": 7,
   "metadata": {
    "collapsed": true
   },
   "outputs": [],
   "source": [
    "import math\n",
    "from matplotlib import pylab as plt\n",
    "%matplotlib inline"
   ]
  },
  {
   "cell_type": "code",
   "execution_count": 8,
   "metadata": {
    "collapsed": true
   },
   "outputs": [],
   "source": [
    "def pdf(x, m, variance):\n",
    "    sigma = math.sqrt(variance)\n",
    "    \"\"\"probability density function\"\"\"\n",
    "    return 1 / (sigma * math.sqrt(2 * math.pi)) * math.e ** (-1 * ((x - m)**2 / (2 * variance ** 2)))"
   ]
  },
  {
   "cell_type": "code",
   "execution_count": 26,
   "metadata": {
    "collapsed": false
   },
   "outputs": [
    {
     "data": {
      "text/plain": [
       "0.19947114020071635"
      ]
     },
     "execution_count": 26,
     "metadata": {},
     "output_type": "execute_result"
    }
   ],
   "source": [
    "pdf(20, 20, 4)"
   ]
  },
  {
   "cell_type": "markdown",
   "metadata": {},
   "source": [
    "### Example"
   ]
  },
  {
   "cell_type": "code",
   "execution_count": 28,
   "metadata": {
    "collapsed": false
   },
   "outputs": [
    {
     "data": {
      "text/plain": [
       "[<matplotlib.lines.Line2D at 0x105bc3dd8>]"
      ]
     },
     "execution_count": 28,
     "metadata": {},
     "output_type": "execute_result"
    },
    {
     "data": {
      "image/png": "[encoded data removed]",
      "text/plain": [
       "<matplotlib.figure.Figure at 0x105b19588>"
      ]
     },
     "metadata": {},
     "output_type": "display_data"
    }
   ],
   "source": [
    "N = range(50)\n",
    "mean = 15\n",
    "variance = 3\n",
    "plt.plot(N, [pdf(i, mean, variance) for i in N])"
   ]
  },
  {
   "cell_type": "code",
   "execution_count": 79,
   "metadata": {
    "collapsed": true
   },
   "outputs": [],
   "source": [
    "def cumulative(x, m, stdv):\n",
    "    return 0.5 * (1 + math.erf((x-m)/ (stdv * math.sqrt(2)) ))"
   ]
  },
  {
   "cell_type": "code",
   "execution_count": 56,
   "metadata": {
    "collapsed": false
   },
   "outputs": [
    {
     "data": {
      "text/plain": [
       "[(1, 0.0),\n",
       " (2, 0.0),\n",
       " (3, 0.0),\n",
       " (4, 0.0),\n",
       " (5, 0.0),\n",
       " (6, 0.0),\n",
       " (7, 0.0),\n",
       " (8, 6.106226635438361e-16),\n",
       " (9, 1.1224354778960333e-13),\n",
       " (10, 1.3083922834056239e-11),\n",
       " (11, 9.865876449133282e-10),\n",
       " (12, 4.8213033676525185e-08),\n",
       " (13, 1.5306267365233772e-06),\n",
       " (14, 3.167124183311998e-05),\n",
       " (15, 0.0004290603331968401),\n",
       " (16, 0.003830380567589775),\n",
       " (17, 0.022750131948179264),\n",
       " (18, 0.09121121972586788),\n",
       " (19, 0.2524925375469229),\n",
       " (20, 0.5),\n",
       " (21, 0.7475074624530771),\n",
       " (22, 0.9087887802741321),\n",
       " (23, 0.9772498680518207),\n",
       " (24, 0.9961696194324102),\n",
       " (25, 0.9995709396668031),\n",
       " (26, 0.9999683287581669),\n",
       " (27, 0.9999984693732635),\n",
       " (28, 0.9999999517869663),\n",
       " (29, 0.9999999990134123)]"
      ]
     },
     "execution_count": 56,
     "metadata": {},
     "output_type": "execute_result"
    }
   ],
   "source": [
    "[(i, cumulative(i, 20.0, 3.0)) for i in range(1, 30)]"
   ]
  },
  {
   "cell_type": "code",
   "execution_count": 58,
   "metadata": {
    "collapsed": false
   },
   "outputs": [],
   "source": [
    "mean = 20 \n",
    "variance = 4"
   ]
  },
  {
   "cell_type": "markdown",
   "metadata": {},
   "source": [
    "### Question 1\n",
    "Less than 19.5 hours?"
   ]
  },
  {
   "cell_type": "code",
   "execution_count": 80,
   "metadata": {
    "collapsed": false
   },
   "outputs": [
    {
     "data": {
      "text/plain": [
       "0.4012936743170763"
      ]
     },
     "execution_count": 80,
     "metadata": {},
     "output_type": "execute_result"
    }
   ],
   "source": [
    "x = 19.5\n",
    "q1_answer = cumulative(x, mean, math.sqrt(variance))\n",
    "q1_answer"
   ]
  },
  {
   "cell_type": "markdown",
   "metadata": {},
   "source": [
    "### Question 2\n",
    "Between 20 and 22 hours?"
   ]
  },
  {
   "cell_type": "code",
   "execution_count": 81,
   "metadata": {
    "collapsed": false
   },
   "outputs": [
    {
     "data": {
      "text/plain": [
       "0.34134474606854304"
      ]
     },
     "execution_count": 81,
     "metadata": {},
     "output_type": "execute_result"
    }
   ],
   "source": [
    "lower_hour, upper_hour = 20.0, 22.0\n",
    "q2_answer = cumulative(upper_hour, mean, math.sqrt(variance)) - cumulative(lower_hour, mean, math.sqrt(variance))\n",
    "q2_answer"
   ]
  },
  {
   "cell_type": "code",
   "execution_count": null,
   "metadata": {
    "collapsed": true
   },
   "outputs": [],
   "source": []
  }
 ],
 "metadata": {
  "kernelspec": {
   "display_name": "Python 3",
   "language": "python",
   "name": "python3"
  },
  "language_info": {
   "codemirror_mode": {
    "name": "ipython",
    "version": 3
   },
   "file_extension": ".py",
   "mimetype": "text/x-python",
   "name": "python",
   "nbconvert_exporter": "python",
   "pygments_lexer": "ipython3",
   "version": "3.5.0"
  }
 },
 "nbformat": 4,
 "nbformat_minor": 1
}
